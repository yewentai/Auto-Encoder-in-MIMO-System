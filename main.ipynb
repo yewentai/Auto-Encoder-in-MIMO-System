{
  "cells": [
    {
      "cell_type": "markdown",
      "metadata": {},
      "source": [
        "### dependency"
      ]
    },
    {
      "cell_type": "code",
      "execution_count": 1,
      "metadata": {
        "id": "dO_S8wDFIu0j"
      },
      "outputs": [],
      "source": [
        "import numpy as np\n",
        "import matplotlib.pyplot as plt\n",
        "from channel import *"
      ]
    },
    {
      "cell_type": "code",
      "execution_count": null,
      "metadata": {},
      "outputs": [],
      "source": [
        "hd = Hd()\n",
        "hr = Hr()\n",
        "g = G()\n",
        "hd = R2P(hd())\n",
        "hr = R2P(hr())\n",
        "g = R2P(g())\n",
        "h = np.concatenate((np.array(hr).squeeze(), np.array(\n",
        "    hd).squeeze(), np.array(g).reshape(2, 500)), axis=1)\n"
      ]
    },
    {
      "cell_type": "code",
      "execution_count": 2,
      "metadata": {},
      "outputs": [
        {
          "name": "stdout",
          "output_type": "stream",
          "text": [
            "Received Signals:\n",
            "Antenna 1: [1.+2.j 3.-1.j 2.+2.j]\n",
            "Antenna 2: [2.-1.j 1.+3.j 2.-2.j]\n",
            "Antenna 3: [3.+1.j 2.-2.j 1.+3.j]\n",
            "\n",
            "Combined Signal using MRC: [1.8826348 +0.62754493j 2.12802519+0.07761867j 1.68279921+1.10282193j]\n"
          ]
        }
      ],
      "source": [
        "import numpy as np\n",
        "\n",
        "\n",
        "\n",
        "# Example usage:\n",
        "# Assume you have received signals from three antennas\n",
        "signal_antenna_1 = np.array([1 + 2j, 3 - 1j, 2 + 2j])\n",
        "signal_antenna_2 = np.array([2 - 1j, 1 + 3j, 2 - 2j])\n",
        "signal_antenna_3 = np.array([3 + 1j, 2 - 2j, 1 + 3j])\n",
        "\n",
        "received_signals = [signal_antenna_1, signal_antenna_2, signal_antenna_3]\n",
        "\n",
        "# Apply Maximal Ratio Combining\n",
        "combined_signal = maximal_ratio_combining(received_signals)\n",
        "\n",
        "# Print the result\n",
        "print(\"Received Signals:\")\n",
        "print(\"Antenna 1:\", signal_antenna_1)\n",
        "print(\"Antenna 2:\", signal_antenna_2)\n",
        "print(\"Antenna 3:\", signal_antenna_3)\n",
        "print(\"\\nCombined Signal using MRC:\", combined_signal)\n"
      ]
    }
  ],
  "metadata": {
    "colab": {
      "collapsed_sections": [],
      "name": "DRL for IRS.ipynb",
      "provenance": []
    },
    "interpreter": {
      "hash": "1afbf4dae76a4cbb0de72c2356a5fa5be655e6e843383971066724040fc78769"
    },
    "kernelspec": {
      "display_name": "Python 3.8.13 ('torch')",
      "language": "python",
      "name": "python3"
    },
    "language_info": {
      "codemirror_mode": {
        "name": "ipython",
        "version": 3
      },
      "file_extension": ".py",
      "mimetype": "text/x-python",
      "name": "python",
      "nbconvert_exporter": "python",
      "pygments_lexer": "ipython3",
      "version": "3.9.7"
    }
  },
  "nbformat": 4,
  "nbformat_minor": 0
}
