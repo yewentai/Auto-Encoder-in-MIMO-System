{
 "cells": [
  {
   "cell_type": "code",
   "execution_count": null,
   "metadata": {},
   "outputs": [],
   "source": [
    "from channels import *\n",
    "from receivers import *"
   ]
  },
  {
   "cell_type": "code",
   "execution_count": null,
   "metadata": {},
   "outputs": [],
   "source": [
    "# Simulation parameters\n",
    "n_rx = 4                # Number of receive antennas\n",
    "delta_r = 0.5           # Normalized receive antenna separation (in wavelengths)\n",
    "distance = 3            # Distance from transmit antenna to the first receive antenna (in meters)\n",
    "phi = 0.1               # Angle of incidence of the line-of-sight onto the receive antenna array\n",
    "fc = 2e9                # Carrier frequency (in Hertz)\n",
    "c = 3e8                 # Speed of light (in meters per second)\n",
    "wavelength = c / fc     # Wavelength (in meters)\n",
    "attenuation = 0.95       # Channel attenuation\n",
    "symbol = np.random.normal(0, 1) + 1j * np.random.normal(0, 1)  # Transmitted symbol\n",
    "noise_power = 1e-5      # Noise power\n",
    "\n",
    "# Simulate SIMO channel\n",
    "y,h = line_of_sight_simo_channel(symbol, n_rx, delta_r, distance, wavelength, phi, attenuation, noise_power)"
   ]
  },
  {
   "cell_type": "code",
   "execution_count": null,
   "metadata": {},
   "outputs": [],
   "source": [
    "# Use the MRC receiver on the simulated SIMO channel\n",
    "decoded_symbol = mrc_receiver(y, h)\n",
    "\n",
    "# Print results\n",
    "print(\"Transmitted Symbol:\", symbol)\n",
    "print(\"Received Symbol after MRC:\", decoded_symbol)"
   ]
  },
  {
   "cell_type": "code",
   "execution_count": null,
   "metadata": {},
   "outputs": [],
   "source": [
    "# Use the MRC receiver on the simulated SIMO channel\n",
    "decoded_symbol = mrc_receiver(y, h)\n",
    "\n",
    "# Print results\n",
    "print(\"Transmitted Symbol:\", symbol)\n",
    "print(\"Received Symbol after MRC:\", decoded_symbol)"
   ]
  },
  {
   "cell_type": "code",
   "execution_count": null,
   "metadata": {},
   "outputs": [],
   "source": [
    "# Plot y and decoded_symbol on the complex plane\n",
    "import matplotlib.pyplot as plt\n",
    "plt.scatter(np.real(y), np.imag(y), label='y')\n",
    "# plt.scatter(np.real(decoded_symbol), np.imag(decoded_symbol), label='decoded symbol')\n",
    "plt.legend()\n",
    "plt.xlabel('Real')\n",
    "plt.ylabel('Imaginary')\n",
    "plt.show()"
   ]
  }
 ],
 "metadata": {
  "kernelspec": {
   "display_name": "base",
   "language": "python",
   "name": "python3"
  },
  "language_info": {
   "codemirror_mode": {
    "name": "ipython",
    "version": 3
   },
   "file_extension": ".py",
   "mimetype": "text/x-python",
   "name": "python",
   "nbconvert_exporter": "python",
   "pygments_lexer": "ipython3",
   "version": "3.9.7"
  }
 },
 "nbformat": 4,
 "nbformat_minor": 2
}
