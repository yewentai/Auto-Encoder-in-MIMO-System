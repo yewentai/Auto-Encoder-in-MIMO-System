{
 "cells": [
  {
   "cell_type": "code",
   "execution_count": 68,
   "metadata": {},
   "outputs": [
    {
     "data": {
      "text/plain": [
       "array([-0.90283714+0.07688249j,  0.89882729-0.06524242j,\n",
       "       -0.90195187+0.04816592j,  0.90149918-0.0375983j ])"
      ]
     },
     "execution_count": 68,
     "metadata": {},
     "output_type": "execute_result"
    }
   ],
   "source": [
    "import numpy as np\n",
    "import matplotlib.pyplot as plt\n",
    "\n",
    "def line_of_sight_simo_channel(x, n_rx=4, delta_r=0.5, distance=3, wavelength=0.1, phi=0.1, attenuation=0.95, noise_power=1e-5):\n",
    "    \"\"\"\n",
    "    Simulate a line-of-sight SIMO channel\n",
    "    \n",
    "    Parameters:\n",
    "    - x: Transmitted symbol\n",
    "    - n_rx: Number of receive antennas\n",
    "    - delta_r: Normalized receive antenna separation\n",
    "    - distance: Distance from transmit antenna to the first receive antenna (in meters)\n",
    "    - wavelength: Wavelength (in meters)\n",
    "    - phi: Angle of incidence of the line-of-sight onto the receive antenna array\n",
    "    - attenuation: Channel attenuation\n",
    "    - noise_power: Noise power\n",
    "\n",
    "    Returns:\n",
    "    - y: Received symbol\n",
    "    - h: Channel spatial signature\n",
    "    \"\"\"\n",
    "\n",
    "    c = 3e8  # Speed of light\n",
    "\n",
    "    # Calculate spatial signature\n",
    "    omega = np.cos(phi)\n",
    "    h = attenuation * np.exp(-1j * 2 * np.pi * distance / wavelength) * \\\n",
    "                        np.exp(-1j * 2 * np.pi * np.arange(n_rx) * delta_r * omega)\n",
    "\n",
    "    w = np.sqrt(noise_power / 2) * (np.random.normal(0, 1, n_rx) + 1j * np.random.normal(0, 1, n_rx))\n",
    "\n",
    "    y = h * x + w\n",
    "\n",
    "    return y, h\n",
    "\n",
    "# Simulation parameters\n",
    "n_rx = 4                # Number of receive antennas\n",
    "delta_r = 0.5           # Normalized receive antenna separation (in wavelengths)\n",
    "distance = 3            # Distance from transmit antenna to the first receive antenna (in meters)\n",
    "phi = 0.1               # Angle of incidence of the line-of-sight onto the receive antenna array\n",
    "fc = 2e9                # Carrier frequency (in Hertz)\n",
    "c = 3e8                 # Speed of light (in meters per second)\n",
    "wavelength = c / fc     # Wavelength (in meters)\n",
    "attenuation = 0.95       # Channel attenuation\n",
    "symbol = np.random.normal(0, 1) + 1j * np.random.normal(0, 1)  # Transmitted symbol\n",
    "noise_power = 1e-5      # Noise power\n",
    "\n",
    "# Simulate SIMO channel\n",
    "y,h = line_of_sight_simo_channel(symbol, n_rx, delta_r, distance, wavelength, phi, attenuation, noise_power)\n",
    "\n",
    "y"
   ]
  },
  {
   "cell_type": "code",
   "execution_count": 69,
   "metadata": {},
   "outputs": [
    {
     "name": "stdout",
     "output_type": "stream",
     "text": [
      "Transmitted Symbol: (-0.9456946040932203+0.08120748863902047j)\n",
      "Received Symbol after MRC: (-0.8998140293170717+0.07816514492189718j)\n"
     ]
    }
   ],
   "source": [
    "def mrc_receiver(received_signal, channel_gains):\n",
    "    \"\"\"\n",
    "    Maximum Ratio Combining (MRC) receiver\n",
    "    \n",
    "    Parameters:\n",
    "    - received_signal: Received symbol vector\n",
    "    - channel_gains: Channel gains vector\n",
    "    \n",
    "    Returns:\n",
    "    - decoded_symbol: Decoded symbol\n",
    "    \"\"\"\n",
    "\n",
    "    mrc_weights = np.conj(channel_gains) / np.linalg.norm(channel_gains) / 2  # MRC weights\n",
    "\n",
    "    decoded_symbol = np.dot(mrc_weights, received_signal)\n",
    "\n",
    "    return decoded_symbol\n",
    "\n",
    "# Use the MRC receiver on the simulated SIMO channel\n",
    "decoded_symbol = mrc_receiver(y, h)\n",
    "\n",
    "# Print results\n",
    "print(\"Transmitted Symbol:\", symbol)\n",
    "print(\"Received Symbol after MRC:\", decoded_symbol)\n"
   ]
  },
  {
   "cell_type": "code",
   "execution_count": 70,
   "metadata": {},
   "outputs": [],
   "source": [
    "def additive_white_gaussian_noise_channel(x, n_rx=4, attenuation=0.95, noise_power=1e-5):\n",
    "    \"\"\"\n",
    "    Add AWGN to a signal\n",
    "    \n",
    "    Parameters:\n",
    "    - x: Signal\n",
    "    - n_rx: Number of receive antennas\n",
    "    - attenuation: Channel attenuation\n",
    "    - noise_power: Noise power\n",
    "\n",
    "    Returns:\n",
    "    - y: Signal with AWGN\n",
    "    \"\"\"\n",
    "\n",
    "    w =  np.sqrt(noise_power / 2) * (np.random.normal(0, 1, n_rx) + 1j * np.random.normal(0, 1, n_rx))\n",
    "    \n",
    "    y = attenuation * x + w\n",
    "\n",
    "    return y\n",
    "\n",
    "# Simulate AWGN channel\n",
    "y = additive_white_gaussian_noise_channel(symbol, n_rx, attenuation, noise_power)\n"
   ]
  },
  {
   "cell_type": "code",
   "execution_count": 71,
   "metadata": {},
   "outputs": [
    {
     "name": "stdout",
     "output_type": "stream",
     "text": [
      "Transmitted Symbol: (-0.9456946040932203+0.08120748863902047j)\n",
      "Received Symbol after MRC: (0.0015513056498881461-0.008192715435121463j)\n"
     ]
    }
   ],
   "source": [
    "# Use the MRC receiver on the simulated SIMO channel\n",
    "decoded_symbol = mrc_receiver(y, h)\n",
    "\n",
    "# Print results\n",
    "print(\"Transmitted Symbol:\", symbol)\n",
    "print(\"Received Symbol after MRC:\", decoded_symbol)\n"
   ]
  }
 ],
 "metadata": {
  "kernelspec": {
   "display_name": "base",
   "language": "python",
   "name": "python3"
  },
  "language_info": {
   "codemirror_mode": {
    "name": "ipython",
    "version": 3
   },
   "file_extension": ".py",
   "mimetype": "text/x-python",
   "name": "python",
   "nbconvert_exporter": "python",
   "pygments_lexer": "ipython3",
   "version": "3.10.10"
  }
 },
 "nbformat": 4,
 "nbformat_minor": 2
}
